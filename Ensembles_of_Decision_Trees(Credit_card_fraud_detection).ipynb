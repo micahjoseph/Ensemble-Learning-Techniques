{
  "nbformat": 4,
  "nbformat_minor": 0,
  "metadata": {
    "colab": {
      "name": "Ensembles of Decision Trees(Credit card fraud detection).ipynb",
      "provenance": [],
      "collapsed_sections": [],
      "include_colab_link": true
    },
    "kernelspec": {
      "name": "python3",
      "display_name": "Python 3"
    }
  },
  "cells": [
    {
      "cell_type": "markdown",
      "metadata": {
        "id": "view-in-github",
        "colab_type": "text"
      },
      "source": [
        "<a href=\"https://colab.research.google.com/github/micahjoseph/Ensemble-Learning-Techniques/blob/main/Ensembles_of_Decision_Trees(Credit_card_fraud_detection).ipynb\" target=\"_parent\"><img src=\"https://colab.research.google.com/assets/colab-badge.svg\" alt=\"Open In Colab\"/></a>"
      ]
    },
    {
      "cell_type": "markdown",
      "metadata": {
        "id": "0EoCytc9v6IV"
      },
      "source": [
        "# Implementation\n",
        "\n",
        "### The dataset has credit card transactions where our objective is to identify the fraudulent transactions."
      ]
    },
    {
      "cell_type": "code",
      "metadata": {
        "id": "mXDnsgMRv5ne"
      },
      "source": [
        "import pandas as pd\n",
        "import numpy as np\n",
        "import matplotlib.pyplot as plt\n",
        "\n",
        "from sklearn.model_selection import train_test_split\n",
        "from sklearn.ensemble import RandomForestClassifier\n",
        "from sklearn.ensemble import GradientBoostingClassifier\n",
        "from sklearn.model_selection import GridSearchCV\n",
        "from sklearn.metrics import roc_auc_score, confusion_matrix, accuracy_score\n",
        "\n",
        "from pylab import rcParams\n",
        "rcParams['figure.figsize'] = 8, 8"
      ],
      "execution_count": null,
      "outputs": []
    },
    {
      "cell_type": "code",
      "metadata": {
        "id": "l6xh2sDpwZkA"
      },
      "source": [
        "# Reading the dataset\n",
        "data = pd.read_csv(\"/content/drive/MyDrive/AlmaBetter/Cohort Aravali/Module 3/Week 2/Day 4/data/creditcard.csv\")"
      ],
      "execution_count": null,
      "outputs": []
    },
    {
      "cell_type": "code",
      "metadata": {
        "colab": {
          "base_uri": "https://localhost:8080/",
          "height": 215
        },
        "id": "3zRC9qv-wrb-",
        "outputId": "31e64cdb-18e5-4ac9-99ea-d0aaaab46652"
      },
      "source": [
        "data.head()"
      ],
      "execution_count": null,
      "outputs": [
        {
          "output_type": "execute_result",
          "data": {
            "text/html": [
              "<div>\n",
              "<style scoped>\n",
              "    .dataframe tbody tr th:only-of-type {\n",
              "        vertical-align: middle;\n",
              "    }\n",
              "\n",
              "    .dataframe tbody tr th {\n",
              "        vertical-align: top;\n",
              "    }\n",
              "\n",
              "    .dataframe thead th {\n",
              "        text-align: right;\n",
              "    }\n",
              "</style>\n",
              "<table border=\"1\" class=\"dataframe\">\n",
              "  <thead>\n",
              "    <tr style=\"text-align: right;\">\n",
              "      <th></th>\n",
              "      <th>V1</th>\n",
              "      <th>V2</th>\n",
              "      <th>V3</th>\n",
              "      <th>V4</th>\n",
              "      <th>V5</th>\n",
              "      <th>V6</th>\n",
              "      <th>V7</th>\n",
              "      <th>V8</th>\n",
              "      <th>V9</th>\n",
              "      <th>V10</th>\n",
              "      <th>V11</th>\n",
              "      <th>V12</th>\n",
              "      <th>V13</th>\n",
              "      <th>V14</th>\n",
              "      <th>V15</th>\n",
              "      <th>V16</th>\n",
              "      <th>V17</th>\n",
              "      <th>V18</th>\n",
              "      <th>V19</th>\n",
              "      <th>V20</th>\n",
              "      <th>V21</th>\n",
              "      <th>V22</th>\n",
              "      <th>V23</th>\n",
              "      <th>V24</th>\n",
              "      <th>V25</th>\n",
              "      <th>V26</th>\n",
              "      <th>V27</th>\n",
              "      <th>V28</th>\n",
              "      <th>V29</th>\n",
              "      <th>Target</th>\n",
              "    </tr>\n",
              "  </thead>\n",
              "  <tbody>\n",
              "    <tr>\n",
              "      <th>0</th>\n",
              "      <td>0.114697</td>\n",
              "      <td>0.796303</td>\n",
              "      <td>-0.149553</td>\n",
              "      <td>-0.823011</td>\n",
              "      <td>0.878763</td>\n",
              "      <td>-0.553152</td>\n",
              "      <td>0.939259</td>\n",
              "      <td>-0.108502</td>\n",
              "      <td>0.111137</td>\n",
              "      <td>-0.390521</td>\n",
              "      <td>-1.949546</td>\n",
              "      <td>-0.494436</td>\n",
              "      <td>-0.353696</td>\n",
              "      <td>0.158729</td>\n",
              "      <td>-0.267239</td>\n",
              "      <td>0.234802</td>\n",
              "      <td>-0.754936</td>\n",
              "      <td>-0.343012</td>\n",
              "      <td>0.312175</td>\n",
              "      <td>-0.042711</td>\n",
              "      <td>-0.335776</td>\n",
              "      <td>-0.807853</td>\n",
              "      <td>-0.055940</td>\n",
              "      <td>-1.025281</td>\n",
              "      <td>-0.369557</td>\n",
              "      <td>0.204653</td>\n",
              "      <td>0.242724</td>\n",
              "      <td>0.085713</td>\n",
              "      <td>0.89</td>\n",
              "      <td>0</td>\n",
              "    </tr>\n",
              "    <tr>\n",
              "      <th>1</th>\n",
              "      <td>-0.039318</td>\n",
              "      <td>0.495784</td>\n",
              "      <td>-0.810884</td>\n",
              "      <td>0.546693</td>\n",
              "      <td>1.986257</td>\n",
              "      <td>4.386342</td>\n",
              "      <td>-1.344891</td>\n",
              "      <td>-1.743736</td>\n",
              "      <td>-0.563103</td>\n",
              "      <td>-0.616315</td>\n",
              "      <td>-0.587786</td>\n",
              "      <td>0.317419</td>\n",
              "      <td>-0.408521</td>\n",
              "      <td>0.719639</td>\n",
              "      <td>0.226926</td>\n",
              "      <td>-0.296316</td>\n",
              "      <td>-0.040143</td>\n",
              "      <td>0.119177</td>\n",
              "      <td>1.057682</td>\n",
              "      <td>0.926255</td>\n",
              "      <td>-1.377003</td>\n",
              "      <td>-0.072200</td>\n",
              "      <td>-0.197573</td>\n",
              "      <td>1.014807</td>\n",
              "      <td>1.011293</td>\n",
              "      <td>-0.167684</td>\n",
              "      <td>0.113136</td>\n",
              "      <td>0.256836</td>\n",
              "      <td>85.00</td>\n",
              "      <td>0</td>\n",
              "    </tr>\n",
              "    <tr>\n",
              "      <th>2</th>\n",
              "      <td>2.275706</td>\n",
              "      <td>-1.531508</td>\n",
              "      <td>-1.021969</td>\n",
              "      <td>-1.602152</td>\n",
              "      <td>-1.220329</td>\n",
              "      <td>-0.462376</td>\n",
              "      <td>-1.196485</td>\n",
              "      <td>-0.147058</td>\n",
              "      <td>-0.950224</td>\n",
              "      <td>1.560463</td>\n",
              "      <td>-1.753256</td>\n",
              "      <td>-1.331010</td>\n",
              "      <td>-0.061941</td>\n",
              "      <td>-0.405532</td>\n",
              "      <td>0.048083</td>\n",
              "      <td>-0.307503</td>\n",
              "      <td>0.289363</td>\n",
              "      <td>0.189739</td>\n",
              "      <td>0.022546</td>\n",
              "      <td>-0.408289</td>\n",
              "      <td>-0.193271</td>\n",
              "      <td>-0.103533</td>\n",
              "      <td>0.150945</td>\n",
              "      <td>-0.811083</td>\n",
              "      <td>-0.197913</td>\n",
              "      <td>-0.128446</td>\n",
              "      <td>0.014197</td>\n",
              "      <td>-0.051289</td>\n",
              "      <td>42.70</td>\n",
              "      <td>0</td>\n",
              "    </tr>\n",
              "    <tr>\n",
              "      <th>3</th>\n",
              "      <td>1.940137</td>\n",
              "      <td>-0.357671</td>\n",
              "      <td>-1.210551</td>\n",
              "      <td>0.382523</td>\n",
              "      <td>0.050823</td>\n",
              "      <td>-0.171322</td>\n",
              "      <td>-0.109124</td>\n",
              "      <td>-0.002115</td>\n",
              "      <td>0.869258</td>\n",
              "      <td>-0.001965</td>\n",
              "      <td>0.607629</td>\n",
              "      <td>1.048673</td>\n",
              "      <td>-0.514821</td>\n",
              "      <td>0.329538</td>\n",
              "      <td>-1.041463</td>\n",
              "      <td>-0.498797</td>\n",
              "      <td>-0.276887</td>\n",
              "      <td>0.114245</td>\n",
              "      <td>0.379447</td>\n",
              "      <td>-0.199280</td>\n",
              "      <td>0.157994</td>\n",
              "      <td>0.650355</td>\n",
              "      <td>0.034206</td>\n",
              "      <td>0.739535</td>\n",
              "      <td>0.223605</td>\n",
              "      <td>-0.195509</td>\n",
              "      <td>-0.012791</td>\n",
              "      <td>-0.056841</td>\n",
              "      <td>29.99</td>\n",
              "      <td>0</td>\n",
              "    </tr>\n",
              "    <tr>\n",
              "      <th>4</th>\n",
              "      <td>1.081395</td>\n",
              "      <td>-0.502615</td>\n",
              "      <td>1.075887</td>\n",
              "      <td>-0.543359</td>\n",
              "      <td>-1.472946</td>\n",
              "      <td>-1.065484</td>\n",
              "      <td>-0.443231</td>\n",
              "      <td>-0.143374</td>\n",
              "      <td>1.659826</td>\n",
              "      <td>-1.131238</td>\n",
              "      <td>0.173132</td>\n",
              "      <td>1.430172</td>\n",
              "      <td>0.915609</td>\n",
              "      <td>-0.336588</td>\n",
              "      <td>1.140171</td>\n",
              "      <td>-0.653626</td>\n",
              "      <td>-0.016567</td>\n",
              "      <td>0.066287</td>\n",
              "      <td>0.242537</td>\n",
              "      <td>0.059880</td>\n",
              "      <td>0.224157</td>\n",
              "      <td>0.821209</td>\n",
              "      <td>-0.137223</td>\n",
              "      <td>0.986259</td>\n",
              "      <td>0.563228</td>\n",
              "      <td>-0.574206</td>\n",
              "      <td>0.089673</td>\n",
              "      <td>0.052036</td>\n",
              "      <td>68.00</td>\n",
              "      <td>0</td>\n",
              "    </tr>\n",
              "  </tbody>\n",
              "</table>\n",
              "</div>"
            ],
            "text/plain": [
              "         V1        V2        V3        V4  ...       V27       V28    V29  Target\n",
              "0  0.114697  0.796303 -0.149553 -0.823011  ...  0.242724  0.085713   0.89       0\n",
              "1 -0.039318  0.495784 -0.810884  0.546693  ...  0.113136  0.256836  85.00       0\n",
              "2  2.275706 -1.531508 -1.021969 -1.602152  ...  0.014197 -0.051289  42.70       0\n",
              "3  1.940137 -0.357671 -1.210551  0.382523  ... -0.012791 -0.056841  29.99       0\n",
              "4  1.081395 -0.502615  1.075887 -0.543359  ...  0.089673  0.052036  68.00       0\n",
              "\n",
              "[5 rows x 30 columns]"
            ]
          },
          "metadata": {
            "tags": []
          },
          "execution_count": 3
        }
      ]
    },
    {
      "cell_type": "code",
      "metadata": {
        "colab": {
          "base_uri": "https://localhost:8080/"
        },
        "id": "YrWlz1Sdwv8A",
        "outputId": "944b734d-910b-4284-8c9a-1a8b97e66e9c"
      },
      "source": [
        "# Checking the shape of our data\n",
        "data.shape"
      ],
      "execution_count": null,
      "outputs": [
        {
          "output_type": "execute_result",
          "data": {
            "text/plain": [
              "(56962, 30)"
            ]
          },
          "metadata": {
            "tags": []
          },
          "execution_count": 4
        }
      ]
    },
    {
      "cell_type": "code",
      "metadata": {
        "colab": {
          "base_uri": "https://localhost:8080/"
        },
        "id": "E49--PEvwzhs",
        "outputId": "dcccdc55-bcfb-4149-9896-7cca5ed20bcf"
      },
      "source": [
        "# Checking the distribution of two classes in the target variable\n",
        "data.Target.value_counts()"
      ],
      "execution_count": null,
      "outputs": [
        {
          "output_type": "execute_result",
          "data": {
            "text/plain": [
              "0    56864\n",
              "1       98\n",
              "Name: Target, dtype: int64"
            ]
          },
          "metadata": {
            "tags": []
          },
          "execution_count": 5
        }
      ]
    },
    {
      "cell_type": "markdown",
      "metadata": {
        "id": "VzYAdfAcw5g_"
      },
      "source": [
        "Clearly the dataset is heavily imbalanced!"
      ]
    },
    {
      "cell_type": "code",
      "metadata": {
        "id": "xtTEzn-Te04C"
      },
      "source": [
        "# Creating the dataset with all independent variables\n",
        "X = data.iloc[:,:-1]\n",
        "\n",
        "# Creating the dataset with the dependent variable\n",
        "Y = data.iloc[:,-1]"
      ],
      "execution_count": null,
      "outputs": []
    },
    {
      "cell_type": "markdown",
      "metadata": {
        "id": "sJFCAfwle04C"
      },
      "source": [
        "* Split the dataset into train and test using stratified sampling on our dependent variable. \n",
        "* Using a stratified sampling ensures the distribution of dependent variable remains same across train and test datasets"
      ]
    },
    {
      "cell_type": "code",
      "metadata": {
        "id": "r-2fY9yge04D"
      },
      "source": [
        "# Splitting the dataset into the Training set and Test set\n",
        "X_train, X_test, Y_train, Y_test = train_test_split(X, Y, test_size = 0.2, random_state = 0, stratify = Y)"
      ],
      "execution_count": null,
      "outputs": []
    },
    {
      "cell_type": "code",
      "metadata": {
        "id": "0keFU4IYe04D",
        "colab": {
          "base_uri": "https://localhost:8080/"
        },
        "outputId": "8c559716-9a54-4491-c60f-e087b0ce93ac"
      },
      "source": [
        "print(\"The shape of train dataset :\")\n",
        "print(X_train.shape)\n",
        "\n",
        "print(\"\\n The shape of test dataset :\")\n",
        "print(X_test.shape)"
      ],
      "execution_count": null,
      "outputs": [
        {
          "output_type": "stream",
          "text": [
            "The shape of train dataset :\n",
            "(45569, 29)\n",
            "\n",
            " The shape of test dataset :\n",
            "(11393, 29)\n"
          ],
          "name": "stdout"
        }
      ]
    },
    {
      "cell_type": "code",
      "metadata": {
        "id": "YVQGQNXOe04D",
        "colab": {
          "base_uri": "https://localhost:8080/"
        },
        "outputId": "4ac82c82-e9c2-4d5d-c3c8-fc592e09c8ed"
      },
      "source": [
        "print(\"Distribution of classes of dependent variable in train :\")\n",
        "print(Y_train.value_counts())\n",
        "\n",
        "print(\"\\n Distribution of classes of dependent variable in test :\")\n",
        "print(Y_test.value_counts())"
      ],
      "execution_count": null,
      "outputs": [
        {
          "output_type": "stream",
          "text": [
            "Distribution of classes of dependent variable in train :\n",
            "0    45491\n",
            "1       78\n",
            "Name: Target, dtype: int64\n",
            "\n",
            " Distribution of classes of dependent variable in test :\n",
            "0    11373\n",
            "1       20\n",
            "Name: Target, dtype: int64\n"
          ],
          "name": "stdout"
        }
      ]
    },
    {
      "cell_type": "code",
      "metadata": {
        "id": "p75Q9V5Oe04E",
        "colab": {
          "base_uri": "https://localhost:8080/"
        },
        "outputId": "1ca02e8b-bb35-47d2-cf17-7e9ea190686a"
      },
      "source": [
        "# Hyperparameter tuning\n",
        "\n",
        "classifier = RandomForestClassifier() # For GBM, use GradientBoostingClassifier()\n",
        "grid_values = {'n_estimators':[50, 80,  100], 'max_depth':[3, 5, 7]}\n",
        "classifier = GridSearchCV(classifier, param_grid = grid_values, scoring = 'roc_auc', cv=5)\n",
        "\n",
        "# Fit the object to train dataset\n",
        "classifier.fit(X_train, Y_train)"
      ],
      "execution_count": null,
      "outputs": [
        {
          "output_type": "execute_result",
          "data": {
            "text/plain": [
              "GridSearchCV(cv=5, error_score=nan,\n",
              "             estimator=RandomForestClassifier(bootstrap=True, ccp_alpha=0.0,\n",
              "                                              class_weight=None,\n",
              "                                              criterion='gini', max_depth=None,\n",
              "                                              max_features='auto',\n",
              "                                              max_leaf_nodes=None,\n",
              "                                              max_samples=None,\n",
              "                                              min_impurity_decrease=0.0,\n",
              "                                              min_impurity_split=None,\n",
              "                                              min_samples_leaf=1,\n",
              "                                              min_samples_split=2,\n",
              "                                              min_weight_fraction_leaf=0.0,\n",
              "                                              n_estimators=100, n_jobs=None,\n",
              "                                              oob_score=False,\n",
              "                                              random_state=None, verbose=0,\n",
              "                                              warm_start=False),\n",
              "             iid='deprecated', n_jobs=None,\n",
              "             param_grid={'max_depth': [3, 5, 7], 'n_estimators': [50, 80, 100]},\n",
              "             pre_dispatch='2*n_jobs', refit=True, return_train_score=False,\n",
              "             scoring='roc_auc', verbose=0)"
            ]
          },
          "metadata": {
            "tags": []
          },
          "execution_count": 49
        }
      ]
    },
    {
      "cell_type": "markdown",
      "metadata": {
        "id": "lqZRDAN3e04E"
      },
      "source": [
        "Predicting on both train and test dataset using the fitted model"
      ]
    },
    {
      "cell_type": "code",
      "metadata": {
        "id": "mKS8onIXe04E"
      },
      "source": [
        "train_preds =  classifier.predict(X_train)\n",
        "test_preds  = classifier.predict(X_test)"
      ],
      "execution_count": null,
      "outputs": []
    },
    {
      "cell_type": "code",
      "metadata": {
        "id": "EoxzPDhge04E",
        "colab": {
          "base_uri": "https://localhost:8080/"
        },
        "outputId": "fd01de9f-ab73-4062-fc6b-03077d96d1f7"
      },
      "source": [
        "# Obtain accuracy on train set\n",
        "accuracy_score(Y_train,train_preds)"
      ],
      "execution_count": null,
      "outputs": [
        {
          "output_type": "execute_result",
          "data": {
            "text/plain": [
              "0.9995391603941276"
            ]
          },
          "metadata": {
            "tags": []
          },
          "execution_count": 36
        }
      ]
    },
    {
      "cell_type": "code",
      "metadata": {
        "id": "PoCS7l-Ke04E",
        "colab": {
          "base_uri": "https://localhost:8080/"
        },
        "outputId": "9ae93344-203d-4411-be90-cd0f5269a789"
      },
      "source": [
        "# Obtain accuracy on test set\n",
        "accuracy_score(Y_test,test_preds)"
      ],
      "execution_count": null,
      "outputs": [
        {
          "output_type": "execute_result",
          "data": {
            "text/plain": [
              "0.998683402089002"
            ]
          },
          "metadata": {
            "tags": []
          },
          "execution_count": 37
        }
      ]
    },
    {
      "cell_type": "markdown",
      "metadata": {
        "id": "6Jb6l_1se04F"
      },
      "source": [
        "Accuracy is not a good metric to evaluate our model since the dataset is heavily imbalanced. Thus we will use roc_auc score"
      ]
    },
    {
      "cell_type": "code",
      "metadata": {
        "id": "dPDY0H5de04F",
        "colab": {
          "base_uri": "https://localhost:8080/"
        },
        "outputId": "b53fda3b-fd1d-46b4-e6cb-4c79636a6953"
      },
      "source": [
        "# Calculate roc_auc score on train set\n",
        "roc_auc_score(Y_train,train_preds)"
      ],
      "execution_count": null,
      "outputs": [
        {
          "output_type": "execute_result",
          "data": {
            "text/plain": [
              "0.8973809415105495"
            ]
          },
          "metadata": {
            "tags": []
          },
          "execution_count": 38
        }
      ]
    },
    {
      "cell_type": "code",
      "metadata": {
        "id": "mtsJJPAge04F",
        "colab": {
          "base_uri": "https://localhost:8080/"
        },
        "outputId": "783736f3-d90b-4e0b-e70c-bbb9bf510af3"
      },
      "source": [
        "# Calculate roc_auc score on test set\n",
        "roc_auc_score(Y_test,test_preds)"
      ],
      "execution_count": null,
      "outputs": [
        {
          "output_type": "execute_result",
          "data": {
            "text/plain": [
              "0.7996922535830476"
            ]
          },
          "metadata": {
            "tags": []
          },
          "execution_count": 39
        }
      ]
    },
    {
      "cell_type": "code",
      "metadata": {
        "scrolled": true,
        "id": "_ElJ7-HUe04F",
        "colab": {
          "base_uri": "https://localhost:8080/"
        },
        "outputId": "f5f50139-1d1d-4872-bdc4-fcbd4c8d2194"
      },
      "source": [
        "# Obtain the confusion matrix on train set\n",
        "confusion_matrix(Y_train,train_preds)"
      ],
      "execution_count": null,
      "outputs": [
        {
          "output_type": "execute_result",
          "data": {
            "text/plain": [
              "array([[45486,     5],\n",
              "       [   16,    62]])"
            ]
          },
          "metadata": {
            "tags": []
          },
          "execution_count": 40
        }
      ]
    },
    {
      "cell_type": "code",
      "metadata": {
        "id": "4CuKVi-_e04G",
        "colab": {
          "base_uri": "https://localhost:8080/"
        },
        "outputId": "e91d2ca7-8fad-4174-a288-b125491d4f90"
      },
      "source": [
        "# Obtain the confusion matrix on test set\n",
        "confusion_matrix(Y_test,test_preds)"
      ],
      "execution_count": null,
      "outputs": [
        {
          "output_type": "execute_result",
          "data": {
            "text/plain": [
              "array([[11366,     7],\n",
              "       [    8,    12]])"
            ]
          },
          "metadata": {
            "tags": []
          },
          "execution_count": 41
        }
      ]
    },
    {
      "cell_type": "markdown",
      "metadata": {
        "id": "heMF_k48e04G"
      },
      "source": [
        "Plot the variable importance"
      ]
    },
    {
      "cell_type": "code",
      "metadata": {
        "id": "lCz-wwNTe04H"
      },
      "source": [
        "features = X_train.columns\n",
        "importances = classifier.feature_importances_\n",
        "indices = np.argsort(importances)"
      ],
      "execution_count": null,
      "outputs": []
    },
    {
      "cell_type": "code",
      "metadata": {
        "id": "JvgYKSk6e04H",
        "colab": {
          "base_uri": "https://localhost:8080/",
          "height": 513
        },
        "outputId": "f418efdb-d0e7-4138-ccd3-dcbaf334a627"
      },
      "source": [
        "plt.title('Feature Importance')\n",
        "plt.barh(range(len(indices)), importances[indices], color='red', align='center')\n",
        "plt.yticks(range(len(indices)), [features[i] for i in indices])\n",
        "plt.xlabel('Relative Importance')\n",
        "\n",
        "plt.show()"
      ],
      "execution_count": null,
      "outputs": [
        {
          "output_type": "display_data",
          "data": {
            "image/png": "[encoded data removed]",
            "text/plain": [
              "<Figure size 576x576 with 1 Axes>"
            ]
          },
          "metadata": {
            "tags": [],
            "needs_background": "light"
          }
        }
      ]
    }
  ]
}